{
 "cells": [
  {
   "cell_type": "code",
   "execution_count": null,
   "id": "c07a5358-f928-4b7f-a32d-a4c7b69cba24",
   "metadata": {},
   "outputs": [],
   "source": [
    "import os\n",
    "import cv2\n",
    "import numpy as np\n",
    "\n",
    "from PIL import Image\n",
    "import matplotlib.pyplot as plt\n",
    "\n",
    "from src.image_processing import ImageProcessor"
   ]
  },
  {
   "cell_type": "code",
   "execution_count": null,
   "id": "dab797a3-39c8-4221-ae6b-a08dd75a9895",
   "metadata": {},
   "outputs": [],
   "source": [
    "def show(image, ax=None):\n",
    "    if ax is None:\n",
    "        _, ax = plt.subplots(1, 1)\n",
    "    ax.imshow(image, cmap='gray')\n",
    "    ax.set_axis_off()"
   ]
  },
  {
   "cell_type": "code",
   "execution_count": null,
   "id": "3564fd1c-b217-4110-8879-c5110d758323",
   "metadata": {},
   "outputs": [],
   "source": [
    "image = cv2.imread('./images/Pict_2_2.bmp')\n",
    "#image = cv2.cvtColor(image_orig, cv2.COLOR_BGR2GRAY)\n",
    "#image = cv2.GaussianBlur(image, (5, 5), 0)\n",
    "show(image)"
   ]
  },
  {
   "cell_type": "code",
   "execution_count": null,
   "id": "95db5e53-07bb-4c07-89c8-4828f9326b43",
   "metadata": {},
   "outputs": [],
   "source": [
    "np.mean(image[200:220, 343:350], axis=(0, 1)), np.std(image[200:220, 343:350], axis=(0, 1))"
   ]
  },
  {
   "cell_type": "code",
   "execution_count": null,
   "id": "4776629e-ecbd-4a8d-a53e-733e085db04c",
   "metadata": {},
   "outputs": [],
   "source": [
    "proc = ImageProcessor()\n",
    "contr = proc.segmentate_objects(image)"
   ]
  },
  {
   "cell_type": "code",
   "execution_count": null,
   "id": "a0873102-58fa-42b9-995c-f905b5a24404",
   "metadata": {},
   "outputs": [],
   "source": [
    "fig, ax = plt.subplots(3, 3, figsize=(12, 12))\n",
    "ax = iter(ax.flatten())\n",
    "\n",
    "for img_path in os.listdir('images'):\n",
    "    if img_path.startswith('Pict'):\n",
    "        image = cv2.imread(os.path.join('images/', img_path))\n",
    "        assert image is not None, 'bad image'\n",
    "        #image = cv2.cvtColor(image, cv2.COLOR_BGR2HSV)\n",
    "        axes = next(ax)\n",
    "\n",
    "        proc = ImageProcessor()\n",
    "        contr = proc.segmentate_objects(image)\n",
    "        output_image = image.copy()\n",
    "        cv2.drawContours(output_image, [c.vertices for c in contr], -1, (0, 255, 0), 2)\n",
    "        show(output_image, axes)\n",
    "plt.tight_layout()\n",
    "plt.show()"
   ]
  },
  {
   "cell_type": "code",
   "execution_count": null,
   "id": "9ab4c2a6-fb6d-435f-91c3-0b4dede59c7e",
   "metadata": {},
   "outputs": [],
   "source": [
    "output_mask = np.zeros_like(image)\n",
    "output_image = image.copy()\n",
    "cv2.drawContours(output_image, contr, -1, (0, 255, 0), 2)\n",
    "cv2.drawContours(output_mask, contr, -1, (0, 255, 0), 2)\n",
    "show(output_mask)\n",
    "show(output_image)"
   ]
  },
  {
   "cell_type": "code",
   "execution_count": null,
   "id": "8532b78e-07c0-4b08-bbd3-6f3d2c4b2d7e",
   "metadata": {},
   "outputs": [],
   "source": [
    "def find_contours(image):\n",
    "    # Find contours\n",
    "    contours, _ = cv2.findContours(image, cv2.RETR_LIST, cv2.CHAIN_APPROX_SIMPLE)\n",
    "\n",
    "    return contours"
   ]
  },
  {
   "cell_type": "code",
   "execution_count": null,
   "id": "69670dff-d652-44b9-afe4-14f2746728f5",
   "metadata": {},
   "outputs": [],
   "source": [
    "def count_dots(contour):\n",
    "    # Approximate the contour to a polygon\n",
    "    peri = cv2.arcLength(contour, True)\n",
    "    approx = cv2.approxPolyDP(contour, 0.05 * peri, True)\n",
    "    \n",
    "    # If the polygon has 3 vertices, it's a triangle\n",
    "    if len(approx) == 3:\n",
    "        # Compute centroid of the contour\n",
    "        M = cv2.moments(contour)\n",
    "        print(M['m00'])\n",
    "        cx = int(M['m10'] / M['m00'])\n",
    "        cy = int(M['m01'] / M['m00'])\n",
    "\n",
    "        return (cx, cy), approx\n",
    "\n",
    "    return None, None"
   ]
  },
  {
   "cell_type": "code",
   "execution_count": null,
   "id": "6ef99805-0c93-40f1-bab7-b19e8c0a53d7",
   "metadata": {},
   "outputs": [],
   "source": [
    "def preprocess_image(image):\n",
    "    # clahe = cv2.createCLAHE(clipLimit=2, tileGridSize=(30, 30))\n",
    "    # image = clahe.apply(image)\n",
    "\n",
    "    # Apply Gaussian blur to remove noise\n",
    "    image = cv2.GaussianBlur(image, (5, 5), 0)\n",
    "    image = cv2.medianBlur(image, 15)\n",
    "\n",
    "    se=cv2.getStructuringElement(cv2.MORPH_RECT, (10, 10))\n",
    "    bg=cv2.morphologyEx(image, cv2.MORPH_DILATE, se)\n",
    "    image=cv2.divide(image, bg, scale=255)\n",
    "\n",
    "    # Apply adaptive thresholding\n",
    "    thresh = cv2.adaptiveThreshold(image, 255, cv2.ADAPTIVE_THRESH_GAUSSIAN_C,\n",
    "                                   cv2.THRESH_BINARY_INV, 11, 2)\n",
    "    _, thresh = cv2.threshold(image, 0, 255, cv2.THRESH_BINARY_INV + cv2.THRESH_OTSU)\n",
    "\n",
    "    #show(thresh)\n",
    "    thresh = cv2.morphologyEx(thresh, cv2.MORPH_OPEN, (3, 3), iterations=2)\n",
    "    #thresh = cv2.erode(thresh, (3, 3), iterations=2)\n",
    "    #thresh = cv2.dilate(thresh, (5, 5), iterations=2)\n",
    "    show(thresh)\n",
    "\n",
    "    return thresh"
   ]
  },
  {
   "cell_type": "code",
   "execution_count": null,
   "id": "9c6db666-e75a-4516-9c89-5797240d3558",
   "metadata": {},
   "outputs": [],
   "source": [
    "image = cv2.imread('./images/Pict_2_1.bmp')\n",
    "\n",
    "# Preprocess the image\n",
    "output_image = None\n",
    "for ch in cv2.split(image):\n",
    "    if output_image is None:\n",
    "        output_image = np.zeros_like(ch)\n",
    "    processed_image = preprocess_image(ch)\n",
    "    output_image = cv2.bitwise_or(output_image, processed_image)\n",
    "#output_image = cv2.morphologyEx(output_image, cv2.MORPH_OPEN, (3, 3), iterations=5)\n",
    "#output_image = cv2.erode(output_image, (3, 3), iterations=1)\n",
    "show(output_image)\n",
    "# Find contours\n",
    "contours = find_contours(output_image.copy())\n",
    "\n",
    "output_mask = np.zeros_like(image)\n",
    "cv2.drawContours(output_mask, contours, -1, (0, 255, 0), 2)\n",
    "show(output_mask)\n",
    "\n",
    "# Create a copy of the original image to draw results\n",
    "output_mask = np.zeros_like(image)\n",
    "output_image = image.copy()\n",
    "\n",
    "# List to store centroids and dot counts\n",
    "centroids_validated = []\n",
    "contours_validated = []\n",
    "\n",
    "for contour in contours:\n",
    "    dot_coords, approx = count_dots(contour)\n",
    "    if dot_coords:\n",
    "        centroids_validated.append(dot_coords)\n",
    "        contours_validated.append(approx)\n",
    "cv2.drawContours(output_image, contours_validated, -1, (0, 255, 0), 2)\n",
    "cv2.drawContours(output_mask, contours_validated, -1, (0, 255, 0), 2)\n",
    "show(output_mask)\n",
    "show(output_image)"
   ]
  },
  {
   "cell_type": "code",
   "execution_count": null,
   "id": "68765209-e512-41b3-a945-49593442a0bb",
   "metadata": {
    "scrolled": true
   },
   "outputs": [],
   "source": [
    "contour = contours\n",
    "\n",
    "output_image = image.copy()\n",
    "\n",
    "# List to store centroids and dot counts\n",
    "centroids_validated = []\n",
    "contours_validated = []\n",
    "\n",
    "for contour in contours:\n",
    "    dot_coords, approx = count_dots(contour)\n",
    "    if dot_coords:\n",
    "        centroids_validated.append(dot_coords)\n",
    "        contours_validated.append(approx)\n",
    "cv2.drawContours(output_image, contours_validated, -1, (0, 255, 0), 2)\n",
    "show(output_image)"
   ]
  },
  {
   "cell_type": "code",
   "execution_count": null,
   "id": "74168bdb-414d-47c2-b4f9-2c8b5418bb47",
   "metadata": {},
   "outputs": [],
   "source": [
    "# Preprocess the image\n",
    "output_image = preprocess_image(cv2.cvtColor(image, cv2.COLOR_BGR2GRAY))\n",
    "#output_image = cv2.morphologyEx(output_image, cv2.MORPH_OPEN, (3, 3), iterations=1)\n",
    "#output_image = cv2.dilate(output_image, (15, 15), iterations=8)\n",
    "show(output_image)\n",
    "# Find contours\n",
    "contours = find_contours(output_image.copy())\n",
    "\n",
    "output_mask = np.zeros_like(image)\n",
    "cv2.drawContours(output_mask, contours, -1, (0, 255, 0), 2)\n",
    "show(output_mask)\n",
    "\n",
    "# Create a copy of the original image to draw results\n",
    "output_mask = np.zeros_like(image)\n",
    "output_image = image.copy()\n",
    "\n",
    "# List to store centroids and dot counts\n",
    "centroids_validated = []\n",
    "contours_validated = []\n",
    "\n",
    "for contour in contours:\n",
    "    dot_coords, approx = count_dots(contour)\n",
    "    if dot_coords:\n",
    "        centroids_validated.append(dot_coords)\n",
    "        contours_validated.append(approx)\n",
    "cv2.drawContours(output_image, contours_validated, -1, (0, 255, 0), 2)\n",
    "cv2.drawContours(output_mask, contours_validated, -1, (0, 255, 0), 2)\n",
    "show(output_mask)\n",
    "show(output_image)"
   ]
  },
  {
   "cell_type": "code",
   "execution_count": null,
   "id": "99d6af10-ea26-4b4a-8234-24ca6078931f",
   "metadata": {},
   "outputs": [],
   "source": [
    "image_orig = cv2.imread('./images/Pict_3_2.bmp')\n",
    "image = cv2.cvtColor(image_orig, cv2.COLOR_BGR2GRAY)\n",
    "image = cv2.GaussianBlur(image, (5, 5), 0)\n",
    "image = cv2.morphologyEx(image, cv2.MORPH_CLOSE, np.ones((5, 5), np.uint8))\n",
    "\n",
    "edges = cv2.Canny(image, 50, 100)\n",
    "show(edges)\n",
    "contours, _ = cv2.findContours(edges, cv2.RETR_EXTERNAL, cv2.CHAIN_APPROX_SIMPLE)\n",
    "\n",
    "# create a blank mask to store the segmented objects\n",
    "mask = image_orig.copy()\n",
    "fill_color = (0, 255, 0)\n",
    "\n",
    "cv2.drawContours(mask, contours, -1, fill_color, 2)\n",
    "show(mask)"
   ]
  },
  {
   "cell_type": "code",
   "execution_count": null,
   "id": "dc80c42d-1cb8-4523-9fa1-28bda0093e33",
   "metadata": {},
   "outputs": [],
   "source": [
    "output_image = None\n",
    "for ch in cv2.split(image):\n",
    "    if output_image is None:\n",
    "        output_image = np.zeros_like(ch)\n",
    "    processed_image = preprocess_image(ch)\n",
    "    output_image = cv2.bitwise_or(output_image, processed_image)\n",
    "show(output_image)"
   ]
  },
  {
   "cell_type": "code",
   "execution_count": null,
   "id": "3d246273-a849-4c83-bfe0-bf10e328c1a5",
   "metadata": {},
   "outputs": [],
   "source": [
    "def set_default_color(image, target_color, threshold, default_color):\n",
    "    \n",
    "    # Define lower and upper bounds for the target color in LAB color space\n",
    "    lower_bound = (target_color - threshold).astype(np.uint8)\n",
    "    upper_bound = (target_color + threshold).astype(np.uint8)\n",
    "    \n",
    "    # Create a mask for pixels within the target color range\n",
    "    mask = cv2.inRange(image, lower_bound, upper_bound)\n",
    "\n",
    "    # Invert the mask\n",
    "    mask = cv2.bitwise_not(mask)\n",
    "\n",
    "    # Set the color of pixels outside the target color range to default color\n",
    "    image[mask == 255] = default_color\n",
    "    \n",
    "    return image\n",
    "\n",
    "target_color = np.array((107, 69, 48))\n",
    "threshold = np.array((30, 10, 10))\n",
    "default_color = np.array((255, 255, 255))\n",
    "show(set_default_color(image.copy(), target_color, threshold, default_color))"
   ]
  },
  {
   "cell_type": "code",
   "execution_count": null,
   "id": "4fad0957-3518-46f2-b473-8f0acb6657b6",
   "metadata": {},
   "outputs": [],
   "source": [
    "# Split image into channels\n",
    "b, g, r = cv2.split(image_orig)\n",
    "\n",
    "# Compute absolute differences for each channel\n",
    "diff_b = cv2.absdiff(b, cv2.medianBlur(b, 5))\n",
    "diff_g = cv2.absdiff(g, cv2.medianBlur(g, 5))\n",
    "diff_r = cv2.absdiff(r, cv2.medianBlur(r, 5))\n",
    "\n",
    "# Combine differences\n",
    "diff = cv2.bitwise_or(cv2.bitwise_or(diff_b, diff_g), diff_r)\n",
    "\n",
    "# Threshold the combined difference image\n",
    "_, thresh = cv2.threshold(diff, 25, 255, cv2.THRESH_OTSU)\n",
    "show(thresh)"
   ]
  },
  {
   "cell_type": "code",
   "execution_count": null,
   "id": "cf8aee96-12e2-4f21-964e-d9f643205e90",
   "metadata": {},
   "outputs": [],
   "source": []
  }
 ],
 "metadata": {
  "kernelspec": {
   "display_name": "Python 3 (ipykernel)",
   "language": "python",
   "name": "python3"
  },
  "language_info": {
   "codemirror_mode": {
    "name": "ipython",
    "version": 3
   },
   "file_extension": ".py",
   "mimetype": "text/x-python",
   "name": "python",
   "nbconvert_exporter": "python",
   "pygments_lexer": "ipython3",
   "version": "3.11.8"
  }
 },
 "nbformat": 4,
 "nbformat_minor": 5
}
